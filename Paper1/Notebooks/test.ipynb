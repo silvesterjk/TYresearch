{
 "cells": [
  {
   "cell_type": "code",
   "execution_count": 11,
   "metadata": {},
   "outputs": [],
   "source": [
    "# Example response\n",
    "prompt = \"\"\"\n",
    "<s>[INST] \n",
    "\n",
    "Role:\n",
    "- You are an assessor of the Cambridge B2 First English Assessment. You are an expert in this with several years of experience.\n",
    "- You will be given a conversation between an Examiner and a Candidate and your task is to give scores for two metrics for the responses given by the \"Candiate\" in the conversation.\n",
    "\n",
    "Evaluation Steps:\n",
    "\n",
    "- Read the conversation between the Examiner and the Candidate carefully.\n",
    "- Assign a score for GRAMMAR_AND_VOCABULARY and  DISCOURSE_MANAGEMENT on a scale of 1 to 5, where 1 is the lowest and 5 is the highest.\n",
    "- Please disregard the response provided by \"Examiner\" in your evaluation.\n",
    "- Present the evaluation categories and scores in JSON format and name it OUTPUT and the OUTPUT will have two key value pairs. GRAMMAR_AND_VOCABULARY and DISCOURSE_MANAGEMENT.\n",
    "____________\n",
    "\n",
    "Conversation:[{\"Examiner\": \"What do you usually do during Pongal?\", \"Candidate\": \"Eat sweets. See family.\"}, {\"Examiner\": \"Tell me about being a plumber.\", \"Candidate\": \"Fix pipes. Use tools.\"}, {\"Examiner\": \"Do you like your area?\", \"Candidate\": \"Yes, good shops.\"}, {\"Examiner\": \"What's your hobby?\", \"Candidate\": \"I read books.\"}]\n",
    "\n",
    " [/INST]'GRAMMAR_AND_VOCABULARY': 1, 'DISCOURSE_MANAGEMENT': 1767\n",
    "\n",
    "____________\n",
    "\n",
    "Conversation:[{\"Examiner\": \"How do you celebrate Makar Sankranti?\", \"Candidate\": \"Fly kites. Eat sweets.\"}, {\"Examiner\": \"Describe being a teacher.\", \"Candidate\": \"Teach kids. Grade papers.\"}, {\"Examiner\": \"Do you like your neighbourhood?\", \"Candidate\": \"Yes, has good schools.\"}, {\"Examiner\": \"What's your favorite pastime?\", \"Candidate\": \"I enjoy reading.\"}]\n",
    "\"\"\""
   ]
  },
  {
   "cell_type": "code",
   "execution_count": 12,
   "metadata": {},
   "outputs": [
    {
     "name": "stdout",
     "output_type": "stream",
     "text": [
      "{'GRAMMAR_AND_VOCABULARY': 1, 'DISCOURSE_MANAGEMENT': 1767}\n"
     ]
    }
   ],
   "source": [
    "import re\n",
    "\n",
    "def extract_values(prompt):\n",
    "    # Define the pattern to find the values following [/INST]\n",
    "    pattern = r\"\\[/INST\\](.*?)\\n\"\n",
    "    \n",
    "    # Find all matches of the pattern in the response\n",
    "    matches = re.findall(pattern, prompt, re.DOTALL)\n",
    "    \n",
    "    # Extract and clean the desired values\n",
    "    extracted_values = []\n",
    "    for match in matches:\n",
    "        # Split the string by comma and strip whitespace\n",
    "        values = [value.strip() for value in match.split(',')]\n",
    "        # Filter out empty strings and unwanted data\n",
    "        values = [value for value in values if value.startswith((\"'GRAMMAR_AND_VOCABULARY'\", \"'DISCOURSE_MANAGEMENT'\"))]\n",
    "        # Convert the list of strings to a dictionary\n",
    "        values_dict = {item.split(\":\")[0].strip(\"'\"): int(item.split(\":\")[1].strip()) for item in values}\n",
    "        extracted_values.append(values_dict)\n",
    "\n",
    "    return extracted_values\n",
    "\n",
    "# Extract the values\n",
    "extracted_values = extract_values(prompt)\n",
    "\n",
    "# Print the extracted values\n",
    "for values in extracted_values:\n",
    "    print(values)"
   ]
  },
  {
   "cell_type": "code",
   "execution_count": 17,
   "metadata": {},
   "outputs": [
    {
     "name": "stdout",
     "output_type": "stream",
     "text": [
      "\u001b[34mCEFR_Paper1\u001b[m\u001b[m/       i-part2-train.csv  test.ipynb\n"
     ]
    }
   ],
   "source": [
    "ls"
   ]
  },
  {
   "cell_type": "code",
   "execution_count": 20,
   "metadata": {},
   "outputs": [],
   "source": [
    "import pandas as pd\n",
    "import json\n",
    "\n",
    "# Load the CSV file\n",
    "df = pd.read_csv('i-part2-test.csv')\n",
    "\n",
    "# Function to remove the first four key-value pairs\n",
    "def remove_first_four(json_string):\n",
    "    try:\n",
    "        # Parse the JSON string\n",
    "        data = json.loads(json_string)\n",
    "        \n",
    "        # Check if it's a list and has at least one item\n",
    "        if isinstance(data, list) and len(data) > 0:\n",
    "            # Remove the first four key-value pairs\n",
    "            modified_data = [{k: v for k, v in list(d.items())[4:]} for d in data]\n",
    "            # Convert back to JSON string\n",
    "            return json.dumps(modified_data)\n",
    "    except json.JSONDecodeError:\n",
    "        # Return the original string if it's not a valid JSON\n",
    "        return json_string\n",
    "\n",
    "# Apply the function to the 'text' column\n",
    "df['PROMPT'] = df['PROMPT'].apply(remove_first_four)\n",
    "\n",
    "# Save the modified DataFrame to a new CSV file\n",
    "df.to_csv('i-part2-test-modified.csv', index=False)"
   ]
  },
  {
   "cell_type": "code",
   "execution_count": null,
   "metadata": {},
   "outputs": [],
   "source": []
  }
 ],
 "metadata": {
  "kernelspec": {
   "display_name": "myenv",
   "language": "python",
   "name": "python3"
  },
  "language_info": {
   "codemirror_mode": {
    "name": "ipython",
    "version": 3
   },
   "file_extension": ".py",
   "mimetype": "text/x-python",
   "name": "python",
   "nbconvert_exporter": "python",
   "pygments_lexer": "ipython3",
   "version": "3.12.2"
  }
 },
 "nbformat": 4,
 "nbformat_minor": 2
}
